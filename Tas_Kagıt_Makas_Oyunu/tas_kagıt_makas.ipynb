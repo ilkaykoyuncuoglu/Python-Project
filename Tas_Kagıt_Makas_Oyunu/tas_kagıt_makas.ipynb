{
 "cells": [
  {
   "cell_type": "code",
   "execution_count": null,
   "metadata": {},
   "outputs": [],
   "source": [
    "import random\n",
    "\n",
    "player_score, computer_score = 0, 0\n",
    "\n",
    "print(\"Taş kagıt makas oyunumuza hoş geldiniz \\n\" + (\"-\" * 38))\n",
    "\n",
    "def print_result(winner = \"Bilgisayar\"):\n",
    "    global player_score, computer_score\n",
    "    print(f\"Pc seçimi: {computer_choice} \\n Kazanan: {winner}\")\n",
    "    \n",
    "    if winner == \"Bilgisayar\":\n",
    "        computer_score += 100\n",
    "    else: \n",
    "        player_score += 100\n",
    "\n",
    "while True:\n",
    "    print(\"\\n 1- Taş \\n 2- Kagıt \\n 3- Makas \\n Oyundan çıkmak isterseniz bu degerler dışında bir değer giriniz.\")\n",
    "    player_choice = int(input( \"Secimini yapın.\"))\n",
    "    computer_choice = random.choice([1, 2, 3])\n",
    "\n",
    "    if player_choice == computer_choice:\n",
    "        print(\"Berabere, yeniden oynayın.\")\n",
    "    elif player_choice == 1:\n",
    "        if computer_choice == 2:\n",
    "            print_result()\n",
    "        else:\n",
    "            print_result( \"Kullanıcı\")\n",
    "    elif player_choice == 2:\n",
    "        if computer_choice == 1:\n",
    "            print_result()\n",
    "        else:\n",
    "            print_result( \"Kullanıcı\")\n",
    "    elif player_choice == 3:\n",
    "        if computer_choice == 1:\n",
    "            print_result()\n",
    "        else:\n",
    "            print_result(\"Kullanıcı\")\n",
    "    else:\n",
    "        break \n",
    "\n",
    "print(\"\\n Kullanıcı skoru: {}, \\n Pc skoru: {}\".format(player_score, computer_score))\n",
    "\n",
    "if player_score < computer_score:\n",
    "    print(f\"Kullanıcı {player_score-computer_score} farkla bilgisayara yenilmiştir.\")\n",
    "elif player_score > computer_score:\n",
    "    print(f\"Bilgisayar {player_score-computer_score} farkla kullanıcıya yenilmiştir.\")\n",
    "else:\n",
    "    print(f\"Bilgisayar ve kullanıcı eşittir.\")"
   ]
  }
 ],
 "metadata": {
  "language_info": {
   "name": "python"
  },
  "orig_nbformat": 4
 },
 "nbformat": 4,
 "nbformat_minor": 2
}
