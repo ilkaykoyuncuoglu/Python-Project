{
 "cells": [
  {
   "cell_type": "markdown",
   "metadata": {},
   "source": [
    "gameboard:\n",
    "\n",
    "    Devam eden oyun.\n",
    "\n",
    "player:\n",
    "\n",
    "    user input,\n",
    "\n",
    "    pinpon topu.\n",
    "\n",
    "score table:\n",
    "\n",
    "    win condition."
   ]
  },
  {
   "cell_type": "code",
   "execution_count": null,
   "metadata": {},
   "outputs": [],
   "source": [
    "from itertools import cycle"
   ]
  },
  {
   "cell_type": "code",
   "execution_count": null,
   "metadata": {},
   "outputs": [],
   "source": [
    "game_board = [\n",
    "    [0, 0, 0],\n",
    "    [0, 0, 0],         \n",
    "    [0, 0, 0]         \n",
    "    ]"
   ]
  },
  {
   "cell_type": "code",
   "execution_count": null,
   "metadata": {},
   "outputs": [],
   "source": [
    "def vertical_win(game_board):\n",
    "    size = len(game_board)\n",
    "    \n",
    "def horizontal_win(game_board):\n",
    "    size = len(game_board)\n",
    "    for horizon in range(size):\n",
    "        horizon[0] = horizon[1]"
   ]
  },
  {
   "cell_type": "code",
   "execution_count": null,
   "metadata": {},
   "outputs": [],
   "source": [
    "while True:\n",
    "    player_list = cycle([1, 2])\n",
    "    current_player = next(player_list)\n",
    "    current_place = input(\"{} player: \".format(current_player))\n",
    "    row, col = list(map(int, current_place.split(\",\")))\n",
    "    \n",
    "    input_try = game_board[row][col]\n",
    "    \n",
    "    if input_try == 0:\n",
    "        game_board[row][col] = current_player\n",
    "    \n",
    "    else:\n",
    "        print(\"not valid\")\n",
    "        current_place =  next(player_list)\n",
    "    \n",
    "    print(game_board)\n",
    "        "
   ]
  }
 ],
 "metadata": {
  "interpreter": {
   "hash": "617371321bffb8d2b90d7ae02c0b2416468b3ad3647e27e44c6da8f856396fe0"
  },
  "kernelspec": {
   "display_name": "Python 3.7.4 ('base')",
   "language": "python",
   "name": "python3"
  },
  "language_info": {
   "codemirror_mode": {
    "name": "ipython",
    "version": 3
   },
   "file_extension": ".py",
   "mimetype": "text/x-python",
   "name": "python",
   "nbconvert_exporter": "python",
   "pygments_lexer": "ipython3",
   "version": "3.7.4"
  },
  "orig_nbformat": 4
 },
 "nbformat": 4,
 "nbformat_minor": 2
}
