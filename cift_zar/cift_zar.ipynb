{
 "cells": [
  {
   "cell_type": "code",
   "execution_count": 1,
   "metadata": {},
   "outputs": [
    {
     "name": "stdout",
     "output_type": "stream",
     "text": [
      "83478\n",
      "Basarılı olma oranı: 8.3478%\n",
      "0.08333333333333333\n"
     ]
    }
   ],
   "source": [
    "from random import randint\n",
    "\n",
    "def cift_zar():\n",
    "    zar1 = randint(1,6)\n",
    "    zar2 = randint(1,6)\n",
    "    return zar1, zar2\n",
    "\n",
    "\n",
    "deneme_sayisi = 1000000\n",
    "basari_sayisi = 0\n",
    "\n",
    "for i in range(deneme_sayisi):\n",
    "    zar1, zar2 = cift_zar()\n",
    "    \n",
    "    if (zar1 == 4) and (zar2 == 4):\n",
    "        basari_sayisi += 1\n",
    "    elif (zar1 == 4) and (zar2 == 2):\n",
    "        basari_sayisi += 1\n",
    "    elif (zar1 == 2) and (zar2 == 4):\n",
    "        basari_sayisi += 1\n",
    "\n",
    "print(basari_sayisi)\n",
    "print(f\"Basarılı olma oranı: {(basari_sayisi/deneme_sayisi) * 100}%\")\n",
    "print(3 / 36)"
   ]
  },
  {
   "cell_type": "code",
   "execution_count": 3,
   "metadata": {},
   "outputs": [],
   "source": [
    "\n"
   ]
  },
  {
   "cell_type": "code",
   "execution_count": null,
   "metadata": {},
   "outputs": [],
   "source": []
  }
 ],
 "metadata": {
  "interpreter": {
   "hash": "e534e48711db4d1e1c48977d0d14ff85b1f16d41bcc4fdfd88268a329b3c9d66"
  },
  "kernelspec": {
   "display_name": "Python 3.7.4 64-bit",
   "language": "python",
   "name": "python3"
  },
  "language_info": {
   "codemirror_mode": {
    "name": "ipython",
    "version": 3
   },
   "file_extension": ".py",
   "mimetype": "text/x-python",
   "name": "python",
   "nbconvert_exporter": "python",
   "pygments_lexer": "ipython3",
   "version": "3.7.4"
  },
  "orig_nbformat": 4
 },
 "nbformat": 4,
 "nbformat_minor": 2
}
