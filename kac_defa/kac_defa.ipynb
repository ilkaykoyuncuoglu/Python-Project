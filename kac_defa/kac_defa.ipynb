{
 "cells": [
  {
   "cell_type": "code",
   "execution_count": 2,
   "metadata": {},
   "outputs": [
    {
     "name": "stdout",
     "output_type": "stream",
     "text": [
      "i 2 defa gecmektedir.\n",
      "[1, 2, 3, 4] 2 defa gecmektedir.\n",
      "l 2 defa gecmektedir.\n",
      "il 2 defa gecmektedir.\n",
      "kay 3 defa gecmektedir.\n",
      "k 1 defa gecmektedir.\n",
      "t 2 defa gecmektedir.\n",
      "ilk 2 defa gecmektedir.\n",
      "1 3 defa gecmektedir.\n",
      "23 2 defa gecmektedir.\n",
      "2 2 defa gecmektedir.\n",
      "3 2 defa gecmektedir.\n",
      "4 1 defa gecmektedir.\n",
      "5 1 defa gecmektedir.\n"
     ]
    }
   ],
   "source": [
    "givenTuple = ('i',[1,2,3,4],'l','il','l','i','kay','kay','kay','k','t','ilk','t',1,'ilk','il',23,1,2,[1,2,3,4],3,4,5,23, 1,2,3)\n",
    "\n",
    "temp = ' '\n",
    "uniqueList = []\n",
    "\n",
    "for currentItem in givenTuple:\n",
    "  currentItemCount = givenTuple.count(currentItem)\n",
    "  if (currentItem, currentItemCount) not in uniqueList:\n",
    "    uniqueList.append((currentItem, currentItemCount))\n",
    "\n",
    "for currentItem,count in uniqueList:\n",
    "  print(f'{currentItem} {count} defa gecmektedir.')"
   ]
  },
  {
   "cell_type": "code",
   "execution_count": null,
   "metadata": {},
   "outputs": [],
   "source": []
  },
  {
   "cell_type": "code",
   "execution_count": null,
   "metadata": {},
   "outputs": [],
   "source": []
  }
 ],
 "metadata": {
  "interpreter": {
   "hash": "617371321bffb8d2b90d7ae02c0b2416468b3ad3647e27e44c6da8f856396fe0"
  },
  "kernelspec": {
   "display_name": "Python 3.7.4 ('base')",
   "language": "python",
   "name": "python3"
  },
  "language_info": {
   "codemirror_mode": {
    "name": "ipython",
    "version": 3
   },
   "file_extension": ".py",
   "mimetype": "text/x-python",
   "name": "python",
   "nbconvert_exporter": "python",
   "pygments_lexer": "ipython3",
   "version": "3.7.4"
  },
  "orig_nbformat": 4
 },
 "nbformat": 4,
 "nbformat_minor": 2
}
