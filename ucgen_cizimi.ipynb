{
 "cells": [
  {
   "cell_type": "markdown",
   "metadata": {},
   "source": [
    "# Python'da tek döndü ve double döngü ile üçgen türlerinin çizimine başlayalım."
   ]
  },
  {
   "cell_type": "code",
   "execution_count": 3,
   "metadata": {},
   "outputs": [
    {
     "name": "stdout",
     "output_type": "stream",
     "text": [
      "ilkay\n"
     ]
    }
   ],
   "source": [
    "rows=5\n",
    "for i in range(1, rows+1):\n",
    "    print(\"*\"*i) # end, yan yana yaz ve boşluk bırak.\n",
    "\n",
    "rows=5\n",
    "\n",
    "for i in range(1, rows+1):\n",
    "  for j in range(1, i+1):\n",
    "    print(\"*\", end= \" \") # end, yan yana yaz ve boşluk bırak.\n",
    "  print() # alt satıra gecmek için kullanılır."
   ]
  },
  {
   "cell_type": "code",
   "execution_count": null,
   "metadata": {},
   "outputs": [],
   "source": [
    "rows=5\n",
    "for i in range(rows, 0, -1):\n",
    "    print(\"*\"*i) # end, yan yana yaz ve boşluk bırak.\n",
    "\n",
    "rows=5\n",
    "\n",
    "for i in range(rows+1, 0, -1):\n",
    "  for j in range(1, i+1):\n",
    "    print(\"*\", end= \" \") # end, yan yana yaz ve boşluk bırak.\n",
    "  print() # alt satıra gecmek için kullanılır."
   ]
  },
  {
   "cell_type": "code",
   "execution_count": null,
   "metadata": {},
   "outputs": [],
   "source": [
    "rows=5\n",
    "\n",
    "for i in range(1, rows+1):\n",
    "  print(\" \"*(rows-i)+\"*\"*i) # end, yan yana yaz ve boşluk bırak.\n",
    "print()\n",
    "\n",
    "\n",
    "rows=5\n",
    "\n",
    "for i in range(0, rows):\n",
    "  for j in range(0, i+1):\n",
    "    if j==0:\n",
    "        print(\" \"*(rows-i)+ \"*\", end= \"\") # end, yan yana yaz ve boşluk bırak.\n",
    "    else:\n",
    "        print(\"*\", end=\"\")\n",
    "  print() # alt satıra gecmek için kullanılır."
   ]
  },
  {
   "cell_type": "code",
   "execution_count": 5,
   "metadata": {},
   "outputs": [
    {
     "name": "stdout",
     "output_type": "stream",
     "text": [
      "*****\n",
      "****\n",
      "***\n",
      "**\n",
      "*\n",
      "\n"
     ]
    }
   ],
   "source": [
    "rows=5\n",
    "\n",
    "for i in range(1, rows+1):\n",
    "  print(\"*\" * (rows-i+1)) # end, yan yana yaz ve boşluk bırak.\n",
    "print()"
   ]
  },
  {
   "cell_type": "code",
   "execution_count": null,
   "metadata": {},
   "outputs": [],
   "source": [
    "rows =  5\n",
    "\n",
    "for i in range(rows, 0, -1):\n",
    "    print(\" \" * (rows-i) + \"*\" * i) # end, yan yana yaz ve boşluk bırak.\n",
    "print()\n",
    "\n",
    "rows=5\n",
    "\n",
    "for i in range(rows, 0, -1): # dikey yıldız\n",
    "    for j in range(0, i): # yatay yıldız\n",
    "        if j==0:\n",
    "            print(\" \"*(rows-i) + \"*\", end= \"\") # end, yatay yıldız yan yana olsun.\n",
    "        else: print(\"*\", end=\"\")\n",
    "    print() # alt satıra gecmek için kullanılır."
   ]
  },
  {
   "cell_type": "code",
   "execution_count": null,
   "metadata": {},
   "outputs": [],
   "source": [
    "rows =  5\n",
    "\n",
    "for i in range(0, rows+1):\n",
    "    print(\" \" * (rows-i) + \"*\" * 2 * i) # end, yan yana yaz ve boşluk bırak.\n",
    "print()\n",
    "\n",
    "rows=5\n",
    "\n",
    "for i in range(0, rows):\n",
    "  for j in range(0, i+1):\n",
    "    if j==0:\n",
    "        print(\" \"*(rows-i)+ \"*\", end= \"\") # end, yan yana yaz ve boşluk bırak.\n",
    "    else:\n",
    "        print(\"*\" * 2, end=\"\")\n",
    "  print() # alt satıra gecmek için kullanılır."
   ]
  },
  {
   "cell_type": "code",
   "execution_count": null,
   "metadata": {},
   "outputs": [],
   "source": [
    "rows =  5\n",
    "\n",
    "for i in range(rows, 0, -1):\n",
    "    print(\" \" * (rows-i) + \"*\" * 2 * i) # end, yan yana yaz ve boşluk bırak.\n",
    "print()\n",
    "\n",
    "rows=5\n",
    "\n",
    "for i in range(rows, -1, -1):\n",
    "  for j in range(0, i+1):\n",
    "    if j==0:\n",
    "        print(\" \"*(rows-i)+ \"*\", end= \"\") # end, yan yana yaz ve boşluk bırak.\n",
    "    else:\n",
    "        print(\"*\" * 2, end=\"\")\n",
    "  print() # alt satıra gecmek için kullanılır."
   ]
  }
 ],
 "metadata": {
  "interpreter": {
   "hash": "617371321bffb8d2b90d7ae02c0b2416468b3ad3647e27e44c6da8f856396fe0"
  },
  "kernelspec": {
   "display_name": "Python 3.7.4 64-bit ('base': conda)",
   "name": "python3"
  },
  "language_info": {
   "codemirror_mode": {
    "name": "ipython",
    "version": 3
   },
   "file_extension": ".py",
   "mimetype": "text/x-python",
   "name": "python",
   "nbconvert_exporter": "python",
   "pygments_lexer": "ipython3",
   "version": "3.7.4"
  },
  "orig_nbformat": 4
 },
 "nbformat": 4,
 "nbformat_minor": 2
}
