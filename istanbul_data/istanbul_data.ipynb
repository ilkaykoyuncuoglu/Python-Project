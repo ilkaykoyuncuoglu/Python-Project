{
 "cells": [
  {
   "cell_type": "markdown",
   "metadata": {},
   "source": [
    "'''\n",
    "Tüm harfler küçük olacak\n",
    "\n",
    "Noktalama işaretleri kaldırılacak\n",
    "\n",
    "Bir satırdaki text sadece sayıdan oluşuyorsa o satır yeni dosyaya eklenmeyecek\n",
    "\n",
    "Son olarak satır bazlı unique olacak. Mesela ilk satırda; Bugün neden gelmedin? yazıyor 5. satırda da aynı cümle birebir yazıyorsa bu eklenmeyecek\n",
    "\n",
    "ş ğ ü ö ç ı harfleri s g u o c i ile replace edilecek\n",
    "'''"
   ]
  },
  {
   "cell_type": "code",
   "execution_count": 3,
   "metadata": {},
   "outputs": [],
   "source": [
    "# !pip3 install regex\n",
    "import regex"
   ]
  },
  {
   "cell_type": "code",
   "execution_count": 4,
   "metadata": {},
   "outputs": [],
   "source": [
    "\n",
    "def remove_punc(text):\n",
    "    remove = regex.compile(r'[\\p{C}|\\p{M}|\\p{P}|\\p{S}|\\p{Z}]+', regex.UNICODE)\n",
    "    return remove.sub(u\" \", text).strip()\n",
    "\n",
    "def text_preprocessing(line):\n",
    "    pre_text = line.lower()\n",
    "    pre_text = pre_text.replace(\"ş\", \"s\").replace(\"ğ\", \"g\").replace(\"ü\", \"u\").replace(\"ö\", \"o\").replace(\"ç\", \"c\").replace(\"ı\", \"i\")\n",
    "\n",
    "    pre_text = remove_punc(pre_text)\n",
    "    return pre_text"
   ]
  },
  {
   "cell_type": "code",
   "execution_count": 9,
   "metadata": {},
   "outputs": [],
   "source": [
    "file = open(\"istanbul_data.txt\", \"r\", encoding=\"utf-8\")\n",
    "lines = file.readlines()"
   ]
  },
  {
   "cell_type": "code",
   "execution_count": 10,
   "metadata": {},
   "outputs": [],
   "source": [
    "unique_text = set()\n",
    "\n",
    "for line in lines:\n",
    "    text = text_preprocessing(line)\n",
    "    if not text.isdigit():\n",
    "        unique_text.add(text)\n",
    "\n",
    "with open(r\".\\istanbul_data\\islenmis_istanbul_data.txt\", \"w\", encoding=\"utf-8\") as f:\n",
    "    for i in unique_text:\n",
    "        f.write(i + \"\\n\")"
   ]
  },
  {
   "cell_type": "code",
   "execution_count": null,
   "metadata": {},
   "outputs": [],
   "source": []
  }
 ],
 "metadata": {
  "interpreter": {
   "hash": "e534e48711db4d1e1c48977d0d14ff85b1f16d41bcc4fdfd88268a329b3c9d66"
  },
  "kernelspec": {
   "display_name": "Python 3.7.4 64-bit",
   "language": "python",
   "name": "python3"
  },
  "language_info": {
   "codemirror_mode": {
    "name": "ipython",
    "version": 3
   },
   "file_extension": ".py",
   "mimetype": "text/x-python",
   "name": "python",
   "nbconvert_exporter": "python",
   "pygments_lexer": "ipython3",
   "version": "3.7.4"
  },
  "orig_nbformat": 4
 },
 "nbformat": 4,
 "nbformat_minor": 2
}
