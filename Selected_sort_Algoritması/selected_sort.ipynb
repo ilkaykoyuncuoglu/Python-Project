{
 "cells": [
  {
   "cell_type": "code",
   "execution_count": 1,
   "metadata": {},
   "outputs": [
    {
     "name": "stdout",
     "output_type": "stream",
     "text": [
      "sıralanmıs liste [1, 2, 3, 4, 5, 6, 7, 9, 10, 11, 12, 13, 15, 16, 17, 18, 19, 20, 21, 22, 23, 24, 25, 26, 27, 28, 29, 30, 31, 32, 33, 34, 35, 36, 37, 38, 39, 40, 41, 42, 43, 44, 45, 46, 47, 48, 49, 50, 51, 52, 53, 54, 55, 56, 57, 58, 59, 60, 62, 63, 64, 65, 66, 68, 69, 70, 71, 72, 73, 74, 75, 76, 77, 78, 79, 80, 81, 82, 83, 86, 87, 88, 90, 91, 92, 94, 95, 96, 97, 98, 99, 100]\n"
     ]
    }
   ],
   "source": [
    "my_list = [71, 20, 26, 22, 92, 2, 75, 33, 56, 74, 36, 30, 21, 60, 3, 47, 62, 63, 37, 68, 69, 97, 17, 81, 54, 100, \n",
    "            58, 25, 40, 82, 43, 38, 77, 18, 24, 52, 88, 32, 80, 70, 9, 44, 49, 1, 7, 98, 10, 5, 55, 59, 76, 23, 86,\n",
    "            91, 48, 16, 46, 31, 42, 78, 87, 57, 96, 13, 83, 39, 45, 90, 12, 29, 6, 4, 15, 19, 11, 27, 53, 94, 99, 34, \n",
    "            35, 41, 51, 95, 65, 28, 64, 50, 79, 66, 72, 73]\n",
    "\n",
    "size =  len(my_list)\n",
    "\n",
    "for i in range(size):\n",
    "    min_value = i\n",
    "    for j in range(i+1, size):\n",
    "        if my_list[j] < my_list[min_value]:\n",
    "            min_value = j\n",
    "    \n",
    "    temp = my_list[i]\n",
    "    my_list[i] = my_list[min_value]\n",
    "    my_list[min_value] = temp\n",
    "    \n",
    "    # my_list[i], my_list[min_value] = my_list[min_value], my_list[i]\n",
    "    \n",
    "print(\"sıralanmıs liste\", my_list)"
   ]
  },
  {
   "cell_type": "code",
   "execution_count": null,
   "metadata": {},
   "outputs": [],
   "source": []
  }
 ],
 "metadata": {
  "interpreter": {
   "hash": "617371321bffb8d2b90d7ae02c0b2416468b3ad3647e27e44c6da8f856396fe0"
  },
  "kernelspec": {
   "display_name": "Python 3.7.4 ('base')",
   "language": "python",
   "name": "python3"
  },
  "language_info": {
   "codemirror_mode": {
    "name": "ipython",
    "version": 3
   },
   "file_extension": ".py",
   "mimetype": "text/x-python",
   "name": "python",
   "nbconvert_exporter": "python",
   "pygments_lexer": "ipython3",
   "version": "3.7.4"
  },
  "orig_nbformat": 4
 },
 "nbformat": 4,
 "nbformat_minor": 2
}
