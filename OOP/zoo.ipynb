{
 "cells": [
  {
   "cell_type": "markdown",
   "metadata": {},
   "source": [
    "PAzar günü"
   ]
  },
  {
   "cell_type": "markdown",
   "metadata": {},
   "source": [
    "Bir hayvanat bahçesindeki hayvanlar hakkındaki bilgileri takip etmek için bir sistem tasarlıyorsunuz.\n",
    "\n",
    "Hayvanlar:\n",
    "\n",
    "Atlar (atlar, zebralar, eşekler vb.),\n",
    "\n",
    "Kedigiller (kaplanlar, aslanlar vb.),\n",
    "\n",
    "Kemirgenler (sıçanlar, kunduzlar vb.) gibi gruplardaki türlerle karakterize edilir.\n",
    "\n",
    "Hayvanlar hakkında depolanan bilgilerin çoğu tüm gruplamalar için aynıdır.\n",
    "\n",
    "tür adı, ağırlığı, yaşı vb.\n",
    "\n",
    "Sistem ayrıca her hayvan için belirli ilaçların dozajını alabilmeli => getDosage ()\n",
    "\n",
    "Sistem Yem verme zamanlarını hesaplayabilmelidir => getFeedSchedule ()\n",
    "\n",
    "Sistemin bu işlevleri yerine getirme mantığı, her gruplama için farklı olacaktır. Örneğin, atlar için yem verme algoritması farklı olup, kaplanlar için farklı olacaktır.\n",
    "\n",
    "Polimorfizm modelini kullanarak, yukarıda açıklanan durumu ele almak için bir sınıf diyagramı tasarlayın.\n",
    "\n"
   ]
  },
  {
   "cell_type": "code",
   "execution_count": 18,
   "metadata": {},
   "outputs": [],
   "source": [
    "class Hayvan:\n",
    "    def __init__(self, tur_adi, agirlik, yas):\n",
    "        self.tur_adi =  tur_adi\n",
    "        self.agirlik = agirlik\n",
    "        self.yas = yas\n",
    "        \n",
    "    def getDosage(self):\n",
    "        return 1\n",
    "    \n",
    "    def getFeedSchelude(self):\n",
    "        return [8, 18]"
   ]
  },
  {
   "cell_type": "code",
   "execution_count": 19,
   "metadata": {},
   "outputs": [],
   "source": [
    "class Atlar(Hayvan):\n",
    "    def __init__(self, tur_adi, agirlik, yas, dozaj, yem):\n",
    "        super().__init__(tur_adi, agirlik, yas)\n",
    "        self.dozaj = dozaj\n",
    "        self.yem = yem\n",
    "        \n",
    "    def getDosage(self):\n",
    "        return self.dozaj\n",
    "    \n",
    "    def setDosage(self, dozaj):\n",
    "        self.dozaj = dozaj\n",
    "        \n",
    "    def getFeedSchelude(self):\n",
    "        return self.yem\n",
    "    \n",
    "    def setFeedSchelude(self, yem):\n",
    "        self.yem  =  yem  "
   ]
  },
  {
   "cell_type": "code",
   "execution_count": 20,
   "metadata": {},
   "outputs": [],
   "source": [
    "class Kedigiller(Hayvan):\n",
    "    def __init__(self, tur_adi, agirlik, yas):\n",
    "        super().__init__(tur_adi, agirlik, yas)\n",
    "        \n",
    "    def getDosage(self):\n",
    "        return 2\n",
    "    \n",
    "    def getFeedSchelude(self):\n",
    "        return [11, 20]"
   ]
  },
  {
   "cell_type": "code",
   "execution_count": 21,
   "metadata": {},
   "outputs": [],
   "source": [
    "class Kemirgenler(Hayvan):\n",
    "    def __init__(self, tur_adi, agirlik, yas):\n",
    "        super().__init__(tur_adi, agirlik, yas)\n",
    "        \n",
    "    def getDosage(self):\n",
    "        return 2\n",
    "    \n",
    "    def getFeedSchelude(self):\n",
    "        return [11, 20]"
   ]
  },
  {
   "cell_type": "code",
   "execution_count": 22,
   "metadata": {},
   "outputs": [],
   "source": [
    "zebra = Atlar(\"At\", 230, 4, 3, [8, 18])\n",
    "kaplan = Kedigiller(\"Kedi\", 200, 4)\n",
    "sican = Kemirgenler(\"Kemirgen\", 5, 2)"
   ]
  },
  {
   "cell_type": "code",
   "execution_count": 23,
   "metadata": {},
   "outputs": [],
   "source": [
    "zebra.setDosage(2)\n",
    "zebra.setFeedSchelude([9, 20])"
   ]
  },
  {
   "cell_type": "code",
   "execution_count": 24,
   "metadata": {},
   "outputs": [
    {
     "name": "stdout",
     "output_type": "stream",
     "text": [
      "Zebra için: \n",
      "İlaç Dozu: 2 \n",
      "Yem zamanları: [9, 20] \n",
      "\n",
      "Kaplan için: \n",
      "İlaç Dozu: 2 \n",
      "Yem zamanları: [11, 20] \n",
      "\n",
      "Sican için: \n",
      "İlaç Dozu: 2 \n",
      "Yem zamanları: [11, 20] \n",
      "\n"
     ]
    }
   ],
   "source": [
    "print(f\"Zebra için: \\nİlaç Dozu: {zebra.getDosage()} \\nYem zamanları: {zebra.getFeedSchelude()} \\n\")\n",
    "print(f\"Kaplan için: \\nİlaç Dozu: {kaplan.getDosage()} \\nYem zamanları: {kaplan.getFeedSchelude()} \\n\")\n",
    "print(f\"Sican için: \\nİlaç Dozu: {sican.getDosage()} \\nYem zamanları: {sican.getFeedSchelude()} \\n\")"
   ]
  },
  {
   "cell_type": "code",
   "execution_count": null,
   "metadata": {},
   "outputs": [],
   "source": []
  }
 ],
 "metadata": {
  "interpreter": {
   "hash": "e534e48711db4d1e1c48977d0d14ff85b1f16d41bcc4fdfd88268a329b3c9d66"
  },
  "kernelspec": {
   "display_name": "Python 3.7.4 64-bit",
   "language": "python",
   "name": "python3"
  },
  "language_info": {
   "codemirror_mode": {
    "name": "ipython",
    "version": 3
   },
   "file_extension": ".py",
   "mimetype": "text/x-python",
   "name": "python",
   "nbconvert_exporter": "python",
   "pygments_lexer": "ipython3",
   "version": "3.7.4"
  },
  "orig_nbformat": 4
 },
 "nbformat": 4,
 "nbformat_minor": 2
}
