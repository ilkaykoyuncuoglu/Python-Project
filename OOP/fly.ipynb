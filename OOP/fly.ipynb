{
 "cells": [
  {
   "cell_type": "markdown",
   "metadata": {},
   "source": [
    "Uçuşların ve pilotların yönetimi için bir sistem tasarlayın.\n",
    "\n",
    "* Hava yolu şirketleri uçuşları gerçekleştirir. Her hava yolunun bir kimliği vardır.\n",
    "\n",
    "* Hava yolu şirketi, farklı tipteki uçaklara sahiptir.\n",
    "\n",
    "* Uçaklar çalışır veya onarım durumunda olabilir.\n",
    "\n",
    "* Her uçuşun benzersiz kimliği, kalkacağı ve ineceği havaalanı, kalkış ve iniş saatleri vardır.\n",
    "\n",
    "* Her uçuşun bir pilotu ve yardımcı pilotu vardır ve uçağı kullanırlar.\n",
    "\n",
    "* Havaalanlarının benzersiz kimlikleri ve isimleri vardır.\n",
    "\n",
    "* Hava yolu şirketlerinin pilotları vardır ve her pilotun bir deneyim seviyesi mevcuttur.\n",
    "\n",
    "* Bir uçak tipi, belirli sayıda pilota ihtiyaç duyabilir.\n",
    "\n",
    "Bu sistemi tasvir eden Class(Sınıf) diyagramını çiziniz."
   ]
  },
  {
   "cell_type": "code",
   "execution_count": 2,
   "metadata": {},
   "outputs": [],
   "source": [
    "class air:\n",
    "    def __init__(self, plane_type, air_id, air_status):\n",
    "        self.plane_type = plane_type\n",
    "        self.air_id = air_id\n",
    "        self.air_status = air_status"
   ]
  },
  {
   "cell_type": "code",
   "execution_count": 3,
   "metadata": {},
   "outputs": [],
   "source": [
    "class fly:\n",
    "    def __init__(self, id, up_air, down_air, time):\n",
    "        self.id = id\n",
    "        self.up_air = up_air\n",
    "        self.down_aair = down_air\n",
    "        self.time = time\n",
    "        "
   ]
  },
  {
   "cell_type": "code",
   "execution_count": null,
   "metadata": {},
   "outputs": [],
   "source": []
  }
 ],
 "metadata": {
  "interpreter": {
   "hash": "e534e48711db4d1e1c48977d0d14ff85b1f16d41bcc4fdfd88268a329b3c9d66"
  },
  "kernelspec": {
   "display_name": "Python 3.7.4 64-bit",
   "language": "python",
   "name": "python3"
  },
  "language_info": {
   "codemirror_mode": {
    "name": "ipython",
    "version": 3
   },
   "file_extension": ".py",
   "mimetype": "text/x-python",
   "name": "python",
   "nbconvert_exporter": "python",
   "pygments_lexer": "ipython3",
   "version": "3.7.4"
  },
  "orig_nbformat": 4
 },
 "nbformat": 4,
 "nbformat_minor": 2
}
