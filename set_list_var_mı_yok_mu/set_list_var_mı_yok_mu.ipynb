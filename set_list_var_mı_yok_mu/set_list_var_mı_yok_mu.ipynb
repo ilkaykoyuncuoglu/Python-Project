{
 "cells": [
  {
   "cell_type": "code",
   "execution_count": 6,
   "metadata": {},
   "outputs": [
    {
     "name": "stdout",
     "output_type": "stream",
     "text": [
      "[1, 2, 3, 4, 5, 6, 7, 8, 9, 10, 11, 12, 13, 14, 15, 16, 17, 18, 19, 20, 21, 22, 23, 24, 25, 26, 27, 28, 29, 30, 31, 32, 33, 34, 35, 36, 37, 38, 39, 40, 41, 42, 43, 44, 45, 46, 47, 48, 49, 50, 51, 52, 53, 54, 55, 56, 57, 58, 59, 60, 61, 62, 63, 64, 65, 66, 67, 68, 69, 70, 71, 72, 73, 74, 75, 76, 77, 78, 79, 80, 81, 82, 83, 84, 85, 86, 87, 88, 89, 90, 91, 92, 93, 94, 95, 96, 97, 98, 99, 100]\n"
     ]
    }
   ],
   "source": [
    "# liste oluşturma\n",
    "\n",
    "num_list = []\n",
    "\n",
    "# yöntem 1\n",
    "for i in range(1, 101):\n",
    "    num_list.append(i)\n",
    "   \n",
    "# yöntem 2 \n",
    "num_list1 = list(range(1, 101))\n",
    "\n",
    "# yöntem 3\n",
    "num_list2 = [i for i in range(1, 101)]\n",
    "\n",
    "print(num_list2)"
   ]
  },
  {
   "cell_type": "code",
   "execution_count": 5,
   "metadata": {},
   "outputs": [
    {
     "name": "stdout",
     "output_type": "stream",
     "text": [
      "Kaldırılan Sayı: 61\n",
      "Kaldırılan Sayı: 47\n",
      "Kaldırılan Sayı: 94\n",
      "Kaldırılan Sayı: 60\n",
      "Kaldırılan Sayı: 25\n",
      "Kaldırılan Sayı: 9\n",
      "Kaldırılan Sayı: 34\n",
      "Kaldırılan Sayı: 44\n",
      "[1, 2, 3, 4, 5, 6, 7, 8, 10, 11, 12, 13, 14, 15, 16, 17, 18, 19, 20, 21, 22, 23, 24, 26, 27, 28, 29, 30, 31, 32, 33, 35, 36, 37, 38, 39, 40, 41, 42, 43, 45, 46, 48, 49, 50, 51, 52, 53, 54, 55, 56, 57, 58, 59, 62, 63, 64, 65, 66, 67, 68, 69, 70, 71, 72, 73, 74, 75, 76, 77, 78, 79, 80, 81, 82, 83, 84, 85, 86, 87, 88, 89, 90, 91, 92, 93, 95, 96, 97, 98, 99, 100]\n",
      "Karıstırlıyor...\n",
      "[40, 51, 69, 3, 30, 27, 86, 33, 92, 35, 29, 11, 78, 97, 1, 89, 10, 98, 70, 74, 32, 22, 93, 31, 16, 48, 37, 65, 80, 46, 59, 95, 82, 55, 91, 62, 42, 81, 36, 19, 8, 96, 68, 66, 18, 52, 49, 50, 24, 39, 100, 12, 54, 88, 15, 99, 21, 56, 28, 43, 72, 57, 4, 13, 20, 53, 38, 6, 77, 2, 45, 14, 58, 63, 76, 90, 23, 5, 73, 67, 87, 71, 79, 64, 41, 83, 85, 17, 75, 26, 84, 7]\n"
     ]
    }
   ],
   "source": [
    "import random\n",
    "\n",
    "num_list = [i for i in range(1, 101)]\n",
    "\n",
    "i = 0\n",
    "while i < 8:\n",
    "    remove_item = random.randint(0, 100)\n",
    "    if remove_item in num_list:\n",
    "        num_list.remove(remove_item)\n",
    "        print(\"Kaldırılan Sayı:\", remove_item)\n",
    "        i += 1\n",
    "    else:\n",
    "        print(\"Aynı deger cıktı.\")\n",
    "    \n",
    "print(num_list)\n",
    "print(\"Karıstırlıyor...\")\n",
    "random.shuffle(num_list)\n",
    "print(num_list)"
   ]
  },
  {
   "cell_type": "code",
   "execution_count": 2,
   "metadata": {},
   "outputs": [
    {
     "name": "stdout",
     "output_type": "stream",
     "text": [
      "[8, 14, 61, 67, 84, 85, 89, 93]\n"
     ]
    }
   ],
   "source": [
    "# Yöntem 1\n",
    "num_list = [71, 20, 26, 22, 92, 2, 75, 33, 56, 74, 36, 30, 21, 60, 3, 47, 62, 63, 37, 68, 69, 97, 17, 81, 54, 100, \n",
    "            58, 25, 40, 82, 43, 38, 77, 18, 24, 52, 88, 32, 80, 70, 9, 44, 49, 1, 7, 98, 10, 5, 55, 59, 76, 23, 86,\n",
    "            91, 48, 16, 46, 31, 42, 78, 87, 57, 96, 13, 83, 39, 45, 90, 12, 29, 6, 4, 15, 19, 11, 27, 53, 94, 99, 34, \n",
    "            35, 41, 51, 95, 65, 28, 64, 50, 79, 66, 72, 73]\n",
    "\n",
    "my_list = list(range(1, 101))\n",
    "\n",
    "for i in num_list:\n",
    "    my_list.remove(i)\n",
    "    \n",
    "print(my_list)"
   ]
  },
  {
   "cell_type": "code",
   "execution_count": 3,
   "metadata": {},
   "outputs": [
    {
     "name": "stdout",
     "output_type": "stream",
     "text": [
      "[8, 14, 61, 67, 84, 85, 89, 93]\n"
     ]
    }
   ],
   "source": [
    "# Yöntem 2\n",
    "num_list = [71, 20, 26, 22, 92, 2, 75, 33, 56, 74, 36, 30, 21, 60, 3, 47, 62, 63, 37, 68, 69, 97, 17, 81, 54, 100, \n",
    "            58, 25, 40, 82, 43, 38, 77, 18, 24, 52, 88, 32, 80, 70, 9, 44, 49, 1, 7, 98, 10, 5, 55, 59, 76, 23, 86,\n",
    "            91, 48, 16, 46, 31, 42, 78, 87, 57, 96, 13, 83, 39, 45, 90, 12, 29, 6, 4, 15, 19, 11, 27, 53, 94, 99, 34, \n",
    "            35, 41, 51, 95, 65, 28, 64, 50, 79, 66, 72, 73]\n",
    "\n",
    "missing_element = []\n",
    "\n",
    "for i in range(1, 101):\n",
    "    if i not in num_list:\n",
    "        missing_element.append(i)\n",
    "    \n",
    "print(missing_element)"
   ]
  },
  {
   "cell_type": "code",
   "execution_count": 4,
   "metadata": {},
   "outputs": [
    {
     "name": "stdout",
     "output_type": "stream",
     "text": [
      "{67, 8, 14, 84, 85, 93, 89, 61}\n"
     ]
    }
   ],
   "source": [
    "# Yöntem 3\n",
    "\n",
    "my_list = [71, 20, 26, 22, 92, 2, 75, 33, 56, 74, 36, 30, 21, 60, 3, 47, 62, 63, 37, 68, 69, 97, 17, 81, 54, 100, \n",
    "            58, 25, 40, 82, 43, 38, 77, 18, 24, 52, 88, 32, 80, 70, 9, 44, 49, 1, 7, 98, 10, 5, 55, 59, 76, 23, 86,\n",
    "            91, 48, 16, 46, 31, 42, 78, 87, 57, 96, 13, 83, 39, 45, 90, 12, 29, 6, 4, 15, 19, 11, 27, 53, 94, 99, 34, \n",
    "            35, 41, 51, 95, 65, 28, 64, 50, 79, 66, 72, 73]\n",
    "\n",
    "num_set = set(range(1, 101))\n",
    "\n",
    "diff_set = num_set - set(my_list)\n",
    "print(diff_set)\n"
   ]
  },
  {
   "cell_type": "code",
   "execution_count": null,
   "metadata": {},
   "outputs": [],
   "source": []
  }
 ],
 "metadata": {
  "interpreter": {
   "hash": "617371321bffb8d2b90d7ae02c0b2416468b3ad3647e27e44c6da8f856396fe0"
  },
  "kernelspec": {
   "display_name": "Python 3.7.4 ('base')",
   "language": "python",
   "name": "python3"
  },
  "language_info": {
   "codemirror_mode": {
    "name": "ipython",
    "version": 3
   },
   "file_extension": ".py",
   "mimetype": "text/x-python",
   "name": "python",
   "nbconvert_exporter": "python",
   "pygments_lexer": "ipython3",
   "version": "3.7.4"
  },
  "orig_nbformat": 4
 },
 "nbformat": 4,
 "nbformat_minor": 2
}
